{
 "cells": [
  {
   "cell_type": "code",
   "execution_count": 1,
   "id": "18a50bb1",
   "metadata": {},
   "outputs": [],
   "source": [
    "import matplotlib.pyplot as plt\n",
    "import matplotlib.colors as mcolors\n",
    "import pandas as pd\n",
    "import numpy as np\n",
    "from sklearn.model_selection import train_test_split\n",
    "from sklearn.preprocessing import PowerTransformer\n",
    "from sklearn.model_selection import StratifiedKFold\n",
    "from sklearn.feature_selection import RFECV\n",
    "from sklearn.metrics import roc_auc_score, average_precision_score, f1_score\n",
    "from sklearn.metrics import accuracy_score, classification_report, confusion_matrix\n",
    "from sklearn.metrics import roc_curve, PrecisionRecallDisplay\n",
    "from sklearn.preprocessing import StandardScaler\n",
    "from sklearn.linear_model import LogisticRegression"
   ]
  },
  {
   "cell_type": "markdown",
   "id": "3e6c5c11",
   "metadata": {},
   "source": [
    "# Combined model (LR) "
   ]
  },
  {
   "cell_type": "markdown",
   "id": "2092a461",
   "metadata": {},
   "source": [
    "### RIH data total = 220 cases (Hypo = 106, non = 114)"
   ]
  },
  {
   "cell_type": "code",
   "execution_count": 2,
   "id": "e7146ed0",
   "metadata": {},
   "outputs": [
    {
     "data": {
      "text/html": [
       "<div>\n",
       "<style scoped>\n",
       "    .dataframe tbody tr th:only-of-type {\n",
       "        vertical-align: middle;\n",
       "    }\n",
       "\n",
       "    .dataframe tbody tr th {\n",
       "        vertical-align: top;\n",
       "    }\n",
       "\n",
       "    .dataframe thead th {\n",
       "        text-align: right;\n",
       "    }\n",
       "</style>\n",
       "<table border=\"1\" class=\"dataframe\">\n",
       "  <thead>\n",
       "    <tr style=\"text-align: right;\">\n",
       "      <th></th>\n",
       "      <th>Hypo</th>\n",
       "    </tr>\n",
       "    <tr>\n",
       "      <th>ID</th>\n",
       "      <th></th>\n",
       "    </tr>\n",
       "  </thead>\n",
       "  <tbody>\n",
       "    <tr>\n",
       "      <th>1</th>\n",
       "      <td>1</td>\n",
       "    </tr>\n",
       "    <tr>\n",
       "      <th>2</th>\n",
       "      <td>1</td>\n",
       "    </tr>\n",
       "    <tr>\n",
       "      <th>3</th>\n",
       "      <td>1</td>\n",
       "    </tr>\n",
       "    <tr>\n",
       "      <th>4</th>\n",
       "      <td>0</td>\n",
       "    </tr>\n",
       "    <tr>\n",
       "      <th>5</th>\n",
       "      <td>1</td>\n",
       "    </tr>\n",
       "  </tbody>\n",
       "</table>\n",
       "</div>"
      ],
      "text/plain": [
       "    Hypo \n",
       "ID       \n",
       "1       1\n",
       "2       1\n",
       "3       1\n",
       "4       0\n",
       "5       1"
      ]
     },
     "execution_count": 2,
     "metadata": {},
     "output_type": "execute_result"
    }
   ],
   "source": [
    "cli = pd.read_excel('outcome.xlsx', header = 0, index_col = 0)\n",
    "cli.head()"
   ]
  },
  {
   "cell_type": "code",
   "execution_count": 3,
   "id": "6a2d5fa3",
   "metadata": {},
   "outputs": [
    {
     "data": {
      "text/plain": [
       "ID\n",
       "1    1\n",
       "2    1\n",
       "3    1\n",
       "Name: Hypo , dtype: int64"
      ]
     },
     "execution_count": 3,
     "metadata": {},
     "output_type": "execute_result"
    }
   ],
   "source": [
    "# Defined label\n",
    "label = cli.iloc[:,0]\n",
    "label.head(3)"
   ]
  },
  {
   "cell_type": "markdown",
   "id": "6ede3e2d",
   "metadata": {},
   "source": [
    "### Combined data"
   ]
  },
  {
   "cell_type": "code",
   "execution_count": 4,
   "id": "4b897c20",
   "metadata": {},
   "outputs": [
    {
     "data": {
      "text/html": [
       "<div>\n",
       "<style scoped>\n",
       "    .dataframe tbody tr th:only-of-type {\n",
       "        vertical-align: middle;\n",
       "    }\n",
       "\n",
       "    .dataframe tbody tr th {\n",
       "        vertical-align: top;\n",
       "    }\n",
       "\n",
       "    .dataframe thead th {\n",
       "        text-align: right;\n",
       "    }\n",
       "</style>\n",
       "<table border=\"1\" class=\"dataframe\">\n",
       "  <thead>\n",
       "    <tr style=\"text-align: right;\">\n",
       "      <th></th>\n",
       "      <th>Sex</th>\n",
       "      <th>Age</th>\n",
       "      <th>FT4_Before_RT</th>\n",
       "      <th>TSH_Before_RT</th>\n",
       "      <th>TR_Volume</th>\n",
       "      <th>Stage_1</th>\n",
       "      <th>Stage_2</th>\n",
       "      <th>Stage_3</th>\n",
       "      <th>Stage_4</th>\n",
       "      <th>Stage_5</th>\n",
       "      <th>...</th>\n",
       "      <th>v1276</th>\n",
       "      <th>v1277</th>\n",
       "      <th>v1278</th>\n",
       "      <th>v1279</th>\n",
       "      <th>v1280</th>\n",
       "      <th>v1283</th>\n",
       "      <th>v1284</th>\n",
       "      <th>v1285</th>\n",
       "      <th>v1286</th>\n",
       "      <th>v1287</th>\n",
       "    </tr>\n",
       "    <tr>\n",
       "      <th>ID</th>\n",
       "      <th></th>\n",
       "      <th></th>\n",
       "      <th></th>\n",
       "      <th></th>\n",
       "      <th></th>\n",
       "      <th></th>\n",
       "      <th></th>\n",
       "      <th></th>\n",
       "      <th></th>\n",
       "      <th></th>\n",
       "      <th></th>\n",
       "      <th></th>\n",
       "      <th></th>\n",
       "      <th></th>\n",
       "      <th></th>\n",
       "      <th></th>\n",
       "      <th></th>\n",
       "      <th></th>\n",
       "      <th></th>\n",
       "      <th></th>\n",
       "      <th></th>\n",
       "    </tr>\n",
       "  </thead>\n",
       "  <tbody>\n",
       "    <tr>\n",
       "      <th>1</th>\n",
       "      <td>1</td>\n",
       "      <td>26</td>\n",
       "      <td>1.38</td>\n",
       "      <td>2.73</td>\n",
       "      <td>13.1</td>\n",
       "      <td>0</td>\n",
       "      <td>1</td>\n",
       "      <td>0</td>\n",
       "      <td>0</td>\n",
       "      <td>0</td>\n",
       "      <td>...</td>\n",
       "      <td>1762.779584</td>\n",
       "      <td>309.496542</td>\n",
       "      <td>569620.247008</td>\n",
       "      <td>0.168848</td>\n",
       "      <td>0.000582</td>\n",
       "      <td>0.000020</td>\n",
       "      <td>1.936930</td>\n",
       "      <td>0.000140</td>\n",
       "      <td>447.758339</td>\n",
       "      <td>0.001169</td>\n",
       "    </tr>\n",
       "    <tr>\n",
       "      <th>2</th>\n",
       "      <td>2</td>\n",
       "      <td>48</td>\n",
       "      <td>1.26</td>\n",
       "      <td>1.68</td>\n",
       "      <td>9.9</td>\n",
       "      <td>0</td>\n",
       "      <td>0</td>\n",
       "      <td>1</td>\n",
       "      <td>0</td>\n",
       "      <td>0</td>\n",
       "      <td>...</td>\n",
       "      <td>1294.616010</td>\n",
       "      <td>293.255701</td>\n",
       "      <td>382142.974154</td>\n",
       "      <td>0.231494</td>\n",
       "      <td>0.000822</td>\n",
       "      <td>0.000022</td>\n",
       "      <td>1.648819</td>\n",
       "      <td>0.000110</td>\n",
       "      <td>1225.174465</td>\n",
       "      <td>0.000972</td>\n",
       "    </tr>\n",
       "    <tr>\n",
       "      <th>3</th>\n",
       "      <td>1</td>\n",
       "      <td>55</td>\n",
       "      <td>1.24</td>\n",
       "      <td>1.81</td>\n",
       "      <td>10.6</td>\n",
       "      <td>0</td>\n",
       "      <td>0</td>\n",
       "      <td>0</td>\n",
       "      <td>1</td>\n",
       "      <td>0</td>\n",
       "      <td>...</td>\n",
       "      <td>2061.715653</td>\n",
       "      <td>279.915485</td>\n",
       "      <td>604719.804245</td>\n",
       "      <td>0.129961</td>\n",
       "      <td>0.000504</td>\n",
       "      <td>0.000025</td>\n",
       "      <td>1.222319</td>\n",
       "      <td>0.000225</td>\n",
       "      <td>479.728854</td>\n",
       "      <td>0.001821</td>\n",
       "    </tr>\n",
       "    <tr>\n",
       "      <th>4</th>\n",
       "      <td>1</td>\n",
       "      <td>56</td>\n",
       "      <td>1.34</td>\n",
       "      <td>0.33</td>\n",
       "      <td>14.0</td>\n",
       "      <td>0</td>\n",
       "      <td>0</td>\n",
       "      <td>0</td>\n",
       "      <td>1</td>\n",
       "      <td>0</td>\n",
       "      <td>...</td>\n",
       "      <td>1252.355627</td>\n",
       "      <td>332.693153</td>\n",
       "      <td>432401.996587</td>\n",
       "      <td>0.256888</td>\n",
       "      <td>0.000816</td>\n",
       "      <td>0.000026</td>\n",
       "      <td>3.322900</td>\n",
       "      <td>0.000159</td>\n",
       "      <td>224.301554</td>\n",
       "      <td>0.002015</td>\n",
       "    </tr>\n",
       "    <tr>\n",
       "      <th>5</th>\n",
       "      <td>2</td>\n",
       "      <td>67</td>\n",
       "      <td>0.98</td>\n",
       "      <td>1.58</td>\n",
       "      <td>6.1</td>\n",
       "      <td>0</td>\n",
       "      <td>0</td>\n",
       "      <td>1</td>\n",
       "      <td>0</td>\n",
       "      <td>0</td>\n",
       "      <td>...</td>\n",
       "      <td>1975.856335</td>\n",
       "      <td>231.884005</td>\n",
       "      <td>478335.397246</td>\n",
       "      <td>0.112917</td>\n",
       "      <td>0.000547</td>\n",
       "      <td>0.000053</td>\n",
       "      <td>0.661655</td>\n",
       "      <td>0.000373</td>\n",
       "      <td>643.547168</td>\n",
       "      <td>0.002047</td>\n",
       "    </tr>\n",
       "  </tbody>\n",
       "</table>\n",
       "<p>5 rows × 1059 columns</p>\n",
       "</div>"
      ],
      "text/plain": [
       "    Sex  Age  FT4_Before_RT  TSH_Before_RT  TR_Volume  Stage_1  Stage_2  \\\n",
       "ID                                                                        \n",
       "1     1   26           1.38           2.73       13.1        0        1   \n",
       "2     2   48           1.26           1.68        9.9        0        0   \n",
       "3     1   55           1.24           1.81       10.6        0        0   \n",
       "4     1   56           1.34           0.33       14.0        0        0   \n",
       "5     2   67           0.98           1.58        6.1        0        0   \n",
       "\n",
       "    Stage_3  Stage_4  Stage_5  ...        v1276       v1277          v1278  \\\n",
       "ID                             ...                                           \n",
       "1         0        0        0  ...  1762.779584  309.496542  569620.247008   \n",
       "2         1        0        0  ...  1294.616010  293.255701  382142.974154   \n",
       "3         0        1        0  ...  2061.715653  279.915485  604719.804245   \n",
       "4         0        1        0  ...  1252.355627  332.693153  432401.996587   \n",
       "5         1        0        0  ...  1975.856335  231.884005  478335.397246   \n",
       "\n",
       "       v1279     v1280     v1283     v1284     v1285        v1286     v1287  \n",
       "ID                                                                           \n",
       "1   0.168848  0.000582  0.000020  1.936930  0.000140   447.758339  0.001169  \n",
       "2   0.231494  0.000822  0.000022  1.648819  0.000110  1225.174465  0.000972  \n",
       "3   0.129961  0.000504  0.000025  1.222319  0.000225   479.728854  0.001821  \n",
       "4   0.256888  0.000816  0.000026  3.322900  0.000159   224.301554  0.002015  \n",
       "5   0.112917  0.000547  0.000053  0.661655  0.000373   643.547168  0.002047  \n",
       "\n",
       "[5 rows x 1059 columns]"
      ]
     },
     "execution_count": 4,
     "metadata": {},
     "output_type": "execute_result"
    }
   ],
   "source": [
    "data_processed = pd.read_excel('input_LR.xlsx', header = 0, index_col = 0)\n",
    "data_processed.head()"
   ]
  },
  {
   "cell_type": "markdown",
   "id": "fa60392c",
   "metadata": {},
   "source": [
    "## Split data to train:test = 80%:20%"
   ]
  },
  {
   "cell_type": "code",
   "execution_count": 5,
   "id": "d8fa4471",
   "metadata": {},
   "outputs": [],
   "source": [
    "X_train, X_test, y_train, y_test = train_test_split(data_processed, label, test_size = 0.2, stratify = label, \\\n",
    "                                                    shuffle = True, random_state = 999) "
   ]
  },
  {
   "cell_type": "code",
   "execution_count": 6,
   "id": "9628e257",
   "metadata": {},
   "outputs": [
    {
     "name": "stdout",
     "output_type": "stream",
     "text": [
      "Train group =  (176, 1059)\n",
      "Test group =  (44, 1059)\n"
     ]
    }
   ],
   "source": [
    "print('Train group = ',X_train.shape)\n",
    "print('Test group = ', X_test.shape)"
   ]
  },
  {
   "cell_type": "markdown",
   "id": "35a5e68c",
   "metadata": {},
   "source": [
    "## Standardize data using mean and SD estimates from the training set"
   ]
  },
  {
   "cell_type": "code",
   "execution_count": 7,
   "id": "0fea4e2d",
   "metadata": {},
   "outputs": [],
   "source": [
    "X_scaler = StandardScaler(with_mean = True, with_std = True).fit(X_train)\n",
    "\n",
    "X_train_std = pd.DataFrame(X_scaler.transform(X_train), index = X_train.index, columns = X_train.columns)\n",
    "X_test_std = pd.DataFrame(X_scaler.transform(X_test), index = X_test.index, columns = X_test.columns)"
   ]
  },
  {
   "cell_type": "markdown",
   "id": "1a23d60c",
   "metadata": {},
   "source": [
    "## Preliminary model evaluation"
   ]
  },
  {
   "cell_type": "markdown",
   "id": "cf9f64b9",
   "metadata": {},
   "source": [
    "## Logistic regression"
   ]
  },
  {
   "cell_type": "code",
   "execution_count": 8,
   "id": "c6c9c3c6",
   "metadata": {},
   "outputs": [],
   "source": [
    "log_reg_models = {} \n",
    "\n",
    "for penalty in ['l1', 'l2']:\n",
    "    for C in [0.001, 0.01, 0.1, 1, 10]:\n",
    "        name = 'LR-P' + penalty + 'C' + str(C)\n",
    "        log_reg_models[name] = LogisticRegression(penalty = penalty, C = C, random_state = 111, \\\n",
    "                                                  max_iter = 100000, solver = 'liblinear')"
   ]
  },
  {
   "cell_type": "code",
   "execution_count": 9,
   "id": "8b555bc2",
   "metadata": {},
   "outputs": [],
   "source": [
    "def get_cv_results(X, y, models):\n",
    "    skfold = StratifiedKFold(n_splits = 5, shuffle = True, random_state = 111)\n",
    "    cv_results = {m:{'coef':[], 'train accuracy':[], 'train AUC':[], 'confusion matrix':[], \\\n",
    "                 'test accuracy':[], 'test AUC':[]} for m in models}\n",
    "\n",
    "    for train_index, val_index in skfold.split(X, y):\n",
    "        X_train_cv = X.iloc[train_index, :]\n",
    "        y_train_cv = y.iloc[train_index]\n",
    "\n",
    "        X_val = X.iloc[val_index, :]\n",
    "        y_val = y.iloc[val_index]\n",
    "\n",
    "        for m in cv_results: \n",
    "            model = models[m] \n",
    "            model.fit(X_train_cv, y_train_cv)\n",
    "\n",
    "            y_fitted = model.predict_proba(X_train_cv)[:, 1]\n",
    "            y_fitted_class = model.predict(X_train_cv)\n",
    "\n",
    "            y_predict = model.predict_proba(X_val)[:, 1]\n",
    "            y_predict_class = model.predict(X_val)\n",
    "\n",
    "            ## Add [m] to point results to the dictionary entry for the current model\n",
    "            cv_results[m]['coef'].append(model.coef_[0])\n",
    "            cv_results[m]['train accuracy'].append(accuracy_score(y_train_cv, y_fitted_class))\n",
    "            cv_results[m]['train AUC'].append(roc_auc_score(y_train_cv, y_fitted))\n",
    "\n",
    "            cv_results[m]['confusion matrix'].append(confusion_matrix(y_val, y_predict_class))\n",
    "            cv_results[m]['test accuracy'].append(accuracy_score(y_val, y_predict_class))\n",
    "            cv_results[m]['test AUC'].append(roc_auc_score(y_val, y_predict))\n",
    "            \n",
    "    return cv_results"
   ]
  },
  {
   "cell_type": "code",
   "execution_count": 10,
   "id": "2a6d8908",
   "metadata": {},
   "outputs": [],
   "source": [
    "cv_results = get_cv_results(X_train_std, y_train, log_reg_models)"
   ]
  },
  {
   "cell_type": "markdown",
   "id": "9d3398ef",
   "metadata": {},
   "source": [
    "### Calculate average validation performances sort models by AUC"
   ]
  },
  {
   "cell_type": "code",
   "execution_count": 11,
   "id": "a38a88fa",
   "metadata": {},
   "outputs": [
    {
     "name": "stdout",
     "output_type": "stream",
     "text": [
      "LR-Pl2C0.001 validation acc = 0.5685714285714285 acc sd = 0.08494896427039147 validation AUC = 0.5900584795321638 AUC sd= 0.09461291454515877\n",
      "LR-Pl1C0.1 validation acc = 0.5395238095238095 acc sd = 0.06753851676758629 validation AUC = 0.5734778121775025 AUC sd= 0.0859480686684646\n",
      "LR-Pl2C0.01 validation acc = 0.5404761904761904 acc sd = 0.10018124165300768 validation AUC = 0.5642242862057104 AUC sd= 0.09849101985786976\n",
      "LR-Pl1C1 validation acc = 0.5861904761904763 acc sd = 0.10537052645690345 validation AUC = 0.5638114895080839 AUC sd= 0.11731753681290806\n",
      "LR-Pl2C0.1 validation acc = 0.5119047619047619 acc sd = 0.08726117390715832 validation AUC = 0.5394908840729273 AUC sd= 0.08558998562776449\n",
      "LR-Pl2C1 validation acc = 0.5176190476190475 acc sd = 0.06713441351838897 validation AUC = 0.5279325765393877 AUC sd= 0.08323216548800523\n",
      "LR-Pl2C10 validation acc = 0.5006349206349207 acc sd = 0.06275444552665992 validation AUC = 0.5272101823185416 AUC sd= 0.07742043057415311\n",
      "LR-Pl1C10 validation acc = 0.5519047619047619 acc sd = 0.07340750732397383 validation AUC = 0.5263845889232887 AUC sd= 0.11528027851210132\n",
      "LR-Pl1C0.01 validation acc = 0.5169841269841269 acc sd = 0.005396825396825422 validation AUC = 0.5 AUC sd= 0.0\n",
      "LR-Pl1C0.001 validation acc = 0.5169841269841269 acc sd = 0.005396825396825422 validation AUC = 0.5 AUC sd= 0.0\n"
     ]
    }
   ],
   "source": [
    "models = [m for m in cv_results]\n",
    "val_acc_all = [np.mean(cv_results[m]['test accuracy']) for m in cv_results]\n",
    "val_auc_all = [np.mean(cv_results[m]['test AUC']) for m in cv_results]\n",
    "val_acc_sd_all = [np.std(cv_results[m]['test accuracy']) for m in cv_results]\n",
    "val_auc_sd_all = [np.std(cv_results[m]['test AUC']) for m in cv_results]\n",
    "\n",
    "model_order = np.argsort(val_auc_all)[::-1]\n",
    "\n",
    "for i in model_order:\n",
    "    print(models[i], 'validation acc =', val_acc_all[i], 'acc sd =', val_acc_sd_all[i] , \n",
    "                     'validation AUC =', val_auc_all[i], 'AUC sd=', val_auc_sd_all[i])"
   ]
  },
  {
   "cell_type": "markdown",
   "id": "a2121037",
   "metadata": {},
   "source": [
    "- Select the LR-Pl2C0.001 model to explore further"
   ]
  },
  {
   "cell_type": "code",
   "execution_count": 12,
   "id": "ce5c99b3",
   "metadata": {},
   "outputs": [
    {
     "data": {
      "image/png": "[encoded data removed]",
      "text/plain": [
       "<Figure size 576x288 with 1 Axes>"
      ]
     },
     "metadata": {
      "needs_background": "light"
     },
     "output_type": "display_data"
    }
   ],
   "source": [
    "# distribution of feature coefficients \n",
    "feature_coeffs = pd.DataFrame(np.mean(cv_results['LR-Pl2C0.001']['coef'], axis = 0), \\\n",
    "                              index = X_train_std.columns.values, columns = ['coefficients'])\n",
    "feature_coeffs.sort_values('coefficients', inplace = True)\n",
    "\n",
    "plt.figure(figsize = (8, 4))\n",
    "plt.fill_between(range(feature_coeffs.shape[0]), np.zeros((feature_coeffs.shape[0], )), feature_coeffs.iloc[:, 0])\n",
    "plt.xlabel('sorted features'); plt.ylabel('coefficient')\n",
    "plt.show()"
   ]
  },
  {
   "cell_type": "markdown",
   "id": "3f1a2fee",
   "metadata": {},
   "source": [
    "## Feature selection with Recursive Feature Elimination"
   ]
  },
  {
   "cell_type": "code",
   "execution_count": 13,
   "id": "90fe7b1d",
   "metadata": {},
   "outputs": [],
   "source": [
    "base_estimator = LogisticRegression(penalty = 'l2', C = 0.001, random_state = 111, max_iter = 100000, solver = 'liblinear')\n",
    "\n",
    "top_features = list(feature_coeffs.index.values[:15])\n",
    "top_features.extend(feature_coeffs.index.values[-15:])\n",
    "X_top_features = X_train_std.loc[:, top_features]\n",
    "\n",
    "rfecv = RFECV(base_estimator, step = 1, cv = 5, n_jobs = 2, importance_getter = 'auto').fit(X_top_features, y_train)"
   ]
  },
  {
   "cell_type": "code",
   "execution_count": 14,
   "id": "8e81c814",
   "metadata": {},
   "outputs": [
    {
     "name": "stdout",
     "output_type": "stream",
     "text": [
      "number of selected features: 30\n"
     ]
    }
   ],
   "source": [
    "print('number of selected features:', len(X_top_features.columns.values[rfecv.support_]))"
   ]
  },
  {
   "cell_type": "code",
   "execution_count": 15,
   "id": "da7b5bdf",
   "metadata": {},
   "outputs": [],
   "source": [
    "# Perform another round of cross-validation to evaluate the effect of feature selection\n",
    "X_selected_features = X_top_features.loc[:, rfecv.support_]\n",
    "rfe_cv_results = get_cv_results(X_selected_features, y_train, log_reg_models)"
   ]
  },
  {
   "cell_type": "code",
   "execution_count": 16,
   "id": "d3a04b19",
   "metadata": {},
   "outputs": [
    {
     "data": {
      "text/html": [
       "<div>\n",
       "<style scoped>\n",
       "    .dataframe tbody tr th:only-of-type {\n",
       "        vertical-align: middle;\n",
       "    }\n",
       "\n",
       "    .dataframe tbody tr th {\n",
       "        vertical-align: top;\n",
       "    }\n",
       "\n",
       "    .dataframe thead th {\n",
       "        text-align: right;\n",
       "    }\n",
       "</style>\n",
       "<table border=\"1\" class=\"dataframe\">\n",
       "  <thead>\n",
       "    <tr style=\"text-align: right;\">\n",
       "      <th></th>\n",
       "      <th>Age</th>\n",
       "      <th>v1084</th>\n",
       "      <th>v616</th>\n",
       "      <th>v1208</th>\n",
       "      <th>v25</th>\n",
       "      <th>v139</th>\n",
       "      <th>v536</th>\n",
       "      <th>v1082</th>\n",
       "      <th>v608</th>\n",
       "      <th>v808</th>\n",
       "      <th>...</th>\n",
       "      <th>v594</th>\n",
       "      <th>v193</th>\n",
       "      <th>v1263</th>\n",
       "      <th>v437</th>\n",
       "      <th>TSH_Before_RT</th>\n",
       "      <th>v284</th>\n",
       "      <th>TR_V40</th>\n",
       "      <th>v169</th>\n",
       "      <th>v195</th>\n",
       "      <th>N2</th>\n",
       "    </tr>\n",
       "    <tr>\n",
       "      <th>ID</th>\n",
       "      <th></th>\n",
       "      <th></th>\n",
       "      <th></th>\n",
       "      <th></th>\n",
       "      <th></th>\n",
       "      <th></th>\n",
       "      <th></th>\n",
       "      <th></th>\n",
       "      <th></th>\n",
       "      <th></th>\n",
       "      <th></th>\n",
       "      <th></th>\n",
       "      <th></th>\n",
       "      <th></th>\n",
       "      <th></th>\n",
       "      <th></th>\n",
       "      <th></th>\n",
       "      <th></th>\n",
       "      <th></th>\n",
       "      <th></th>\n",
       "      <th></th>\n",
       "    </tr>\n",
       "  </thead>\n",
       "  <tbody>\n",
       "    <tr>\n",
       "      <th>168</th>\n",
       "      <td>0.734820</td>\n",
       "      <td>-1.209629</td>\n",
       "      <td>0.034099</td>\n",
       "      <td>0.997414</td>\n",
       "      <td>0.994476</td>\n",
       "      <td>-0.547876</td>\n",
       "      <td>0.267012</td>\n",
       "      <td>-1.265993</td>\n",
       "      <td>0.239110</td>\n",
       "      <td>-1.102786</td>\n",
       "      <td>...</td>\n",
       "      <td>1.024671</td>\n",
       "      <td>-0.478427</td>\n",
       "      <td>-1.082396</td>\n",
       "      <td>-0.519550</td>\n",
       "      <td>-0.206119</td>\n",
       "      <td>-0.711432</td>\n",
       "      <td>0.481492</td>\n",
       "      <td>-0.154294</td>\n",
       "      <td>0.243087</td>\n",
       "      <td>0.765236</td>\n",
       "    </tr>\n",
       "    <tr>\n",
       "      <th>85</th>\n",
       "      <td>-0.032960</td>\n",
       "      <td>-1.245782</td>\n",
       "      <td>-0.645889</td>\n",
       "      <td>1.044765</td>\n",
       "      <td>1.027954</td>\n",
       "      <td>0.617328</td>\n",
       "      <td>-0.821122</td>\n",
       "      <td>-1.709217</td>\n",
       "      <td>0.246296</td>\n",
       "      <td>0.675232</td>\n",
       "      <td>...</td>\n",
       "      <td>0.894048</td>\n",
       "      <td>-0.975978</td>\n",
       "      <td>-0.173843</td>\n",
       "      <td>0.655652</td>\n",
       "      <td>-0.236501</td>\n",
       "      <td>-0.932041</td>\n",
       "      <td>0.130049</td>\n",
       "      <td>-1.308231</td>\n",
       "      <td>-0.681742</td>\n",
       "      <td>0.765236</td>\n",
       "    </tr>\n",
       "    <tr>\n",
       "      <th>107</th>\n",
       "      <td>-0.032960</td>\n",
       "      <td>-0.056734</td>\n",
       "      <td>-0.004478</td>\n",
       "      <td>1.015647</td>\n",
       "      <td>0.988811</td>\n",
       "      <td>-0.204332</td>\n",
       "      <td>-1.443668</td>\n",
       "      <td>0.536243</td>\n",
       "      <td>0.224308</td>\n",
       "      <td>-1.072113</td>\n",
       "      <td>...</td>\n",
       "      <td>0.835855</td>\n",
       "      <td>0.201607</td>\n",
       "      <td>-0.904230</td>\n",
       "      <td>-0.016759</td>\n",
       "      <td>0.085258</td>\n",
       "      <td>-0.053290</td>\n",
       "      <td>0.379254</td>\n",
       "      <td>-0.260037</td>\n",
       "      <td>0.117124</td>\n",
       "      <td>0.765236</td>\n",
       "    </tr>\n",
       "    <tr>\n",
       "      <th>217</th>\n",
       "      <td>-0.886050</td>\n",
       "      <td>-0.807151</td>\n",
       "      <td>0.738661</td>\n",
       "      <td>-2.236422</td>\n",
       "      <td>-2.251442</td>\n",
       "      <td>1.304118</td>\n",
       "      <td>0.266564</td>\n",
       "      <td>-0.122716</td>\n",
       "      <td>0.314417</td>\n",
       "      <td>-0.170431</td>\n",
       "      <td>...</td>\n",
       "      <td>-0.681343</td>\n",
       "      <td>1.133239</td>\n",
       "      <td>1.113263</td>\n",
       "      <td>-0.816707</td>\n",
       "      <td>-0.190129</td>\n",
       "      <td>0.935873</td>\n",
       "      <td>-1.812477</td>\n",
       "      <td>0.203238</td>\n",
       "      <td>-1.347106</td>\n",
       "      <td>0.765236</td>\n",
       "    </tr>\n",
       "    <tr>\n",
       "      <th>23</th>\n",
       "      <td>-0.203578</td>\n",
       "      <td>0.163814</td>\n",
       "      <td>0.670674</td>\n",
       "      <td>1.034735</td>\n",
       "      <td>1.025246</td>\n",
       "      <td>0.771773</td>\n",
       "      <td>0.242194</td>\n",
       "      <td>-0.377526</td>\n",
       "      <td>0.792122</td>\n",
       "      <td>1.691587</td>\n",
       "      <td>...</td>\n",
       "      <td>0.128593</td>\n",
       "      <td>2.135484</td>\n",
       "      <td>1.112884</td>\n",
       "      <td>3.280847</td>\n",
       "      <td>0.085258</td>\n",
       "      <td>3.646164</td>\n",
       "      <td>0.015031</td>\n",
       "      <td>-0.593098</td>\n",
       "      <td>-0.418663</td>\n",
       "      <td>-1.306787</td>\n",
       "    </tr>\n",
       "    <tr>\n",
       "      <th>...</th>\n",
       "      <td>...</td>\n",
       "      <td>...</td>\n",
       "      <td>...</td>\n",
       "      <td>...</td>\n",
       "      <td>...</td>\n",
       "      <td>...</td>\n",
       "      <td>...</td>\n",
       "      <td>...</td>\n",
       "      <td>...</td>\n",
       "      <td>...</td>\n",
       "      <td>...</td>\n",
       "      <td>...</td>\n",
       "      <td>...</td>\n",
       "      <td>...</td>\n",
       "      <td>...</td>\n",
       "      <td>...</td>\n",
       "      <td>...</td>\n",
       "      <td>...</td>\n",
       "      <td>...</td>\n",
       "      <td>...</td>\n",
       "      <td>...</td>\n",
       "    </tr>\n",
       "    <tr>\n",
       "      <th>155</th>\n",
       "      <td>-0.715432</td>\n",
       "      <td>0.083216</td>\n",
       "      <td>0.189546</td>\n",
       "      <td>-0.508765</td>\n",
       "      <td>-0.486408</td>\n",
       "      <td>0.258309</td>\n",
       "      <td>0.292570</td>\n",
       "      <td>0.505018</td>\n",
       "      <td>0.036786</td>\n",
       "      <td>0.787162</td>\n",
       "      <td>...</td>\n",
       "      <td>-0.803975</td>\n",
       "      <td>-0.810497</td>\n",
       "      <td>-0.014716</td>\n",
       "      <td>-0.378153</td>\n",
       "      <td>0.040841</td>\n",
       "      <td>-0.924822</td>\n",
       "      <td>0.385644</td>\n",
       "      <td>-0.602550</td>\n",
       "      <td>-0.270103</td>\n",
       "      <td>0.765236</td>\n",
       "    </tr>\n",
       "    <tr>\n",
       "      <th>18</th>\n",
       "      <td>0.734820</td>\n",
       "      <td>0.438225</td>\n",
       "      <td>1.368032</td>\n",
       "      <td>1.168380</td>\n",
       "      <td>1.169961</td>\n",
       "      <td>0.786234</td>\n",
       "      <td>1.486182</td>\n",
       "      <td>-0.514829</td>\n",
       "      <td>0.460861</td>\n",
       "      <td>1.114373</td>\n",
       "      <td>...</td>\n",
       "      <td>-0.703554</td>\n",
       "      <td>2.081812</td>\n",
       "      <td>1.161761</td>\n",
       "      <td>1.924621</td>\n",
       "      <td>0.200743</td>\n",
       "      <td>1.003919</td>\n",
       "      <td>0.462323</td>\n",
       "      <td>-1.165056</td>\n",
       "      <td>0.281604</td>\n",
       "      <td>0.765236</td>\n",
       "    </tr>\n",
       "    <tr>\n",
       "      <th>118</th>\n",
       "      <td>0.905438</td>\n",
       "      <td>-0.428287</td>\n",
       "      <td>0.297247</td>\n",
       "      <td>1.133742</td>\n",
       "      <td>1.151166</td>\n",
       "      <td>0.931129</td>\n",
       "      <td>0.723139</td>\n",
       "      <td>-0.532780</td>\n",
       "      <td>0.377769</td>\n",
       "      <td>-1.152624</td>\n",
       "      <td>...</td>\n",
       "      <td>0.100914</td>\n",
       "      <td>0.071368</td>\n",
       "      <td>0.436073</td>\n",
       "      <td>-0.008974</td>\n",
       "      <td>-0.233836</td>\n",
       "      <td>0.178006</td>\n",
       "      <td>0.507052</td>\n",
       "      <td>-1.328723</td>\n",
       "      <td>-0.548234</td>\n",
       "      <td>-1.306787</td>\n",
       "    </tr>\n",
       "    <tr>\n",
       "      <th>44</th>\n",
       "      <td>0.308276</td>\n",
       "      <td>0.889285</td>\n",
       "      <td>0.745768</td>\n",
       "      <td>-0.314052</td>\n",
       "      <td>-0.274904</td>\n",
       "      <td>-0.369212</td>\n",
       "      <td>-1.083969</td>\n",
       "      <td>1.719422</td>\n",
       "      <td>0.028167</td>\n",
       "      <td>0.044663</td>\n",
       "      <td>...</td>\n",
       "      <td>-0.667243</td>\n",
       "      <td>0.109433</td>\n",
       "      <td>-1.043020</td>\n",
       "      <td>-0.103806</td>\n",
       "      <td>-0.019567</td>\n",
       "      <td>0.508555</td>\n",
       "      <td>0.654019</td>\n",
       "      <td>0.847298</td>\n",
       "      <td>-0.288330</td>\n",
       "      <td>-1.306787</td>\n",
       "    </tr>\n",
       "    <tr>\n",
       "      <th>164</th>\n",
       "      <td>-1.653831</td>\n",
       "      <td>0.262610</td>\n",
       "      <td>0.282909</td>\n",
       "      <td>0.713282</td>\n",
       "      <td>0.745230</td>\n",
       "      <td>0.436803</td>\n",
       "      <td>-0.224063</td>\n",
       "      <td>0.188317</td>\n",
       "      <td>0.135628</td>\n",
       "      <td>0.541921</td>\n",
       "      <td>...</td>\n",
       "      <td>-0.749854</td>\n",
       "      <td>-0.592820</td>\n",
       "      <td>-0.459439</td>\n",
       "      <td>0.949152</td>\n",
       "      <td>-0.136828</td>\n",
       "      <td>-0.389654</td>\n",
       "      <td>0.417594</td>\n",
       "      <td>-1.136578</td>\n",
       "      <td>-0.243723</td>\n",
       "      <td>0.765236</td>\n",
       "    </tr>\n",
       "  </tbody>\n",
       "</table>\n",
       "<p>176 rows × 30 columns</p>\n",
       "</div>"
      ],
      "text/plain": [
       "          Age     v1084      v616     v1208       v25      v139      v536  \\\n",
       "ID                                                                          \n",
       "168  0.734820 -1.209629  0.034099  0.997414  0.994476 -0.547876  0.267012   \n",
       "85  -0.032960 -1.245782 -0.645889  1.044765  1.027954  0.617328 -0.821122   \n",
       "107 -0.032960 -0.056734 -0.004478  1.015647  0.988811 -0.204332 -1.443668   \n",
       "217 -0.886050 -0.807151  0.738661 -2.236422 -2.251442  1.304118  0.266564   \n",
       "23  -0.203578  0.163814  0.670674  1.034735  1.025246  0.771773  0.242194   \n",
       "..        ...       ...       ...       ...       ...       ...       ...   \n",
       "155 -0.715432  0.083216  0.189546 -0.508765 -0.486408  0.258309  0.292570   \n",
       "18   0.734820  0.438225  1.368032  1.168380  1.169961  0.786234  1.486182   \n",
       "118  0.905438 -0.428287  0.297247  1.133742  1.151166  0.931129  0.723139   \n",
       "44   0.308276  0.889285  0.745768 -0.314052 -0.274904 -0.369212 -1.083969   \n",
       "164 -1.653831  0.262610  0.282909  0.713282  0.745230  0.436803 -0.224063   \n",
       "\n",
       "        v1082      v608      v808  ...      v594      v193     v1263  \\\n",
       "ID                                 ...                                 \n",
       "168 -1.265993  0.239110 -1.102786  ...  1.024671 -0.478427 -1.082396   \n",
       "85  -1.709217  0.246296  0.675232  ...  0.894048 -0.975978 -0.173843   \n",
       "107  0.536243  0.224308 -1.072113  ...  0.835855  0.201607 -0.904230   \n",
       "217 -0.122716  0.314417 -0.170431  ... -0.681343  1.133239  1.113263   \n",
       "23  -0.377526  0.792122  1.691587  ...  0.128593  2.135484  1.112884   \n",
       "..        ...       ...       ...  ...       ...       ...       ...   \n",
       "155  0.505018  0.036786  0.787162  ... -0.803975 -0.810497 -0.014716   \n",
       "18  -0.514829  0.460861  1.114373  ... -0.703554  2.081812  1.161761   \n",
       "118 -0.532780  0.377769 -1.152624  ...  0.100914  0.071368  0.436073   \n",
       "44   1.719422  0.028167  0.044663  ... -0.667243  0.109433 -1.043020   \n",
       "164  0.188317  0.135628  0.541921  ... -0.749854 -0.592820 -0.459439   \n",
       "\n",
       "         v437  TSH_Before_RT      v284    TR_V40      v169      v195        N2  \n",
       "ID                                                                              \n",
       "168 -0.519550      -0.206119 -0.711432  0.481492 -0.154294  0.243087  0.765236  \n",
       "85   0.655652      -0.236501 -0.932041  0.130049 -1.308231 -0.681742  0.765236  \n",
       "107 -0.016759       0.085258 -0.053290  0.379254 -0.260037  0.117124  0.765236  \n",
       "217 -0.816707      -0.190129  0.935873 -1.812477  0.203238 -1.347106  0.765236  \n",
       "23   3.280847       0.085258  3.646164  0.015031 -0.593098 -0.418663 -1.306787  \n",
       "..        ...            ...       ...       ...       ...       ...       ...  \n",
       "155 -0.378153       0.040841 -0.924822  0.385644 -0.602550 -0.270103  0.765236  \n",
       "18   1.924621       0.200743  1.003919  0.462323 -1.165056  0.281604  0.765236  \n",
       "118 -0.008974      -0.233836  0.178006  0.507052 -1.328723 -0.548234 -1.306787  \n",
       "44  -0.103806      -0.019567  0.508555  0.654019  0.847298 -0.288330 -1.306787  \n",
       "164  0.949152      -0.136828 -0.389654  0.417594 -1.136578 -0.243723  0.765236  \n",
       "\n",
       "[176 rows x 30 columns]"
      ]
     },
     "execution_count": 16,
     "metadata": {},
     "output_type": "execute_result"
    }
   ],
   "source": [
    "X_selected_features"
   ]
  },
  {
   "cell_type": "code",
   "execution_count": 17,
   "id": "9fd40305",
   "metadata": {},
   "outputs": [
    {
     "name": "stdout",
     "output_type": "stream",
     "text": [
      "LR-Pl1C10 train acc = 0.8253191489361702 sd acc = 0.016215564125042523 train AUC = 0.8942939161966157 sd AUC = 0.006819335548604835\n",
      "LR-Pl2C10 train acc = 0.8224721377912866 sd acc = 0.013106911797068417 train AUC = 0.8941724863461367 sd AUC = 0.0067240295981211996\n",
      "LR-Pl2C1 train acc = 0.8210435663627154 sd acc = 0.01349335641750651 train AUC = 0.8888066299579194 sd AUC = 0.0069490335957358915\n",
      "LR-Pl1C1 train acc = 0.815390070921986 sd acc = 0.026254165827131245 train AUC = 0.8850148849494135 sd AUC = 0.007655012859267041\n",
      "LR-Pl2C0.1 train acc = 0.806838905775076 sd acc = 0.01489017046185679 train AUC = 0.8757324961948252 sd AUC = 0.00871327621267028\n",
      "LR-Pl2C0.01 train acc = 0.7770010131712259 sd acc = 0.012134391020530806 train AUC = 0.8432676381054705 sd AUC = 0.01242406829015968\n",
      "LR-Pl2C0.001 train acc = 0.7216008105369808 sd acc = 0.018550542625471293 train AUC = 0.8017649297161787 sd AUC = 0.012230373025764706\n",
      "LR-Pl1C0.1 train acc = 0.7102532928064843 sd acc = 0.027162090748678504 train AUC = 0.787063524039753 sd AUC = 0.030065244910381775\n",
      "LR-Pl1C0.01 train acc = 0.5170415400202634 sd acc = 0.0013779128672745777 train AUC = 0.5 sd AUC = 0.0\n",
      "LR-Pl1C0.001 train acc = 0.5170415400202634 sd acc = 0.0013779128672745777 train AUC = 0.5 sd AUC = 0.0\n"
     ]
    }
   ],
   "source": [
    "# training set\n",
    "models = [m for m in rfe_cv_results]\n",
    "rfe_train_acc_all = [np.mean(rfe_cv_results[m]['train accuracy']) for m in rfe_cv_results]\n",
    "rfe_train_auc_all = [np.mean(rfe_cv_results[m]['train AUC']) for m in rfe_cv_results]\n",
    "rfe_train_acc_sd_all = [np.std(rfe_cv_results[m]['train accuracy']) for m in rfe_cv_results]\n",
    "rfe_train_auc_sd_all = [np.std(rfe_cv_results[m]['train AUC']) for m in rfe_cv_results]\n",
    "\n",
    "rfe_model_order = np.argsort(rfe_train_auc_all)[::-1]\n",
    "\n",
    "for i in rfe_model_order:\n",
    "    print(models[i], 'train acc =', rfe_train_acc_all[i], 'sd acc =', rfe_train_acc_sd_all[i],\n",
    "          'train AUC =', rfe_train_auc_all[i], 'sd AUC =', rfe_train_auc_sd_all[i])"
   ]
  },
  {
   "cell_type": "code",
   "execution_count": 18,
   "id": "fc6dcf46",
   "metadata": {},
   "outputs": [
    {
     "name": "stdout",
     "output_type": "stream",
     "text": [
      "LR-Pl2C0.1 validation acc = 0.7222222222222221 sd acc = 0.06719368409052928 validation AUC = 0.800859993120055 sd AUC = 0.06061143655503485\n",
      "LR-Pl2C0.01 validation acc = 0.710952380952381 sd acc = 0.08372831563457053 validation AUC = 0.7895080839353285 sd AUC = 0.0785903403503202\n",
      "LR-Pl2C1 validation acc = 0.704920634920635 sd acc = 0.039230440512910233 validation AUC = 0.7727554179566564 sd AUC = 0.05059782074205101\n",
      "LR-Pl2C0.001 validation acc = 0.6941269841269841 sd acc = 0.09657213821055653 validation AUC = 0.7670450636394908 sd AUC = 0.08609548114492205\n",
      "LR-Pl1C1 validation acc = 0.687936507936508 sd acc = 0.043869294400316686 validation AUC = 0.7630202958376333 sd AUC = 0.05228660854018083\n",
      "LR-Pl2C10 validation acc = 0.6763492063492064 sd acc = 0.02602593818293282 validation AUC = 0.7270037839697283 sd AUC = 0.05782463792369124\n",
      "LR-Pl1C10 validation acc = 0.6592063492063491 sd acc = 0.039137849034014675 validation AUC = 0.7263157894736841 sd AUC = 0.057741698003848194\n",
      "LR-Pl1C0.1 validation acc = 0.5393650793650793 sd acc = 0.0729910240670472 validation AUC = 0.6026831785345717 sd AUC = 0.07633166387326132\n",
      "LR-Pl1C0.01 validation acc = 0.5169841269841269 sd acc = 0.005396825396825422 validation AUC = 0.5 sd AUC = 0.0\n",
      "LR-Pl1C0.001 validation acc = 0.5169841269841269 sd acc = 0.005396825396825422 validation AUC = 0.5 sd AUC = 0.0\n"
     ]
    }
   ],
   "source": [
    "# validation set\n",
    "models = [m for m in rfe_cv_results]\n",
    "rfe_val_acc_all = [np.mean(rfe_cv_results[m]['test accuracy']) for m in rfe_cv_results]\n",
    "rfe_val_auc_all = [np.mean(rfe_cv_results[m]['test AUC']) for m in rfe_cv_results]\n",
    "rfe_val_acc_sd_all = [np.std(rfe_cv_results[m]['test accuracy']) for m in rfe_cv_results]\n",
    "rfe_val_auc_sd_all = [np.std(rfe_cv_results[m]['test AUC']) for m in rfe_cv_results]\n",
    "\n",
    "rfe_model_order = np.argsort(rfe_val_auc_all)[::-1]\n",
    "\n",
    "for i in rfe_model_order:\n",
    "    print(models[i], 'validation acc =', rfe_val_acc_all[i], 'sd acc =', rfe_val_acc_sd_all[i],\n",
    "          'validation AUC =', rfe_val_auc_all[i], 'sd AUC =', rfe_val_auc_sd_all[i])"
   ]
  },
  {
   "cell_type": "markdown",
   "id": "da06175a",
   "metadata": {},
   "source": [
    "### ROC curves on the test set"
   ]
  },
  {
   "cell_type": "code",
   "execution_count": 19,
   "id": "5156a01d",
   "metadata": {},
   "outputs": [
    {
     "name": "stdout",
     "output_type": "stream",
     "text": [
      "with feature selection:\n",
      "accuracy: 0.7272727272727273\n",
      "ROC AUC: 0.7204968944099378\n"
     ]
    }
   ],
   "source": [
    "model = LogisticRegression(penalty = 'l2', C = 0.1, random_state = 111, max_iter = 100000, solver = 'liblinear')\n",
    "model.fit(X_selected_features, y_train)\n",
    "y_predict_feature_selected = model.predict_proba(X_test_std.loc[:, X_selected_features.columns.values])[:, 1]\n",
    "y_predict_class_feature_selected = model.predict(X_test_std.loc[:, X_selected_features.columns.values])\n",
    "\n",
    "print('with feature selection:')\n",
    "print('accuracy:', accuracy_score(y_test, y_predict_class_feature_selected))\n",
    "print('ROC AUC:', roc_auc_score(y_test, y_predict_feature_selected))"
   ]
  },
  {
   "cell_type": "code",
   "execution_count": 20,
   "id": "77e0f23e",
   "metadata": {},
   "outputs": [
    {
     "data": {
      "image/png": "[encoded data removed]",
      "text/plain": [
       "<Figure size 432x432 with 1 Axes>"
      ]
     },
     "metadata": {
      "needs_background": "light"
     },
     "output_type": "display_data"
    }
   ],
   "source": [
    "plt.figure(figsize = (6, 6))\n",
    "\n",
    "fpr, tpr, thresholds = roc_curve(y_test, y_predict_feature_selected)\n",
    "plt.plot(fpr, tpr, c = 'tab:orange', label = 'LR: Combined model in test set')\n",
    "\n",
    "plt.plot([0, 1], [0, 1], 'k')\n",
    "plt.xlabel('1 - specificity'); plt.ylabel('sensitivity')\n",
    "plt.axis([0, 1, 0, 1])\n",
    "plt.legend()\n",
    "plt.show()"
   ]
  },
  {
   "cell_type": "code",
   "execution_count": 21,
   "id": "4d54674c",
   "metadata": {},
   "outputs": [],
   "source": [
    "def show_details(model, X_test, y_test):\n",
    "    y_pred_class = model.predict(X_test)\n",
    "    acc = accuracy_score(y_test, y_pred_class)\n",
    "    \n",
    "    print('  Model accuracy:', acc)\n",
    "    \n",
    "    conf_mat = confusion_matrix(y_test, y_pred_class)\n",
    "    conf_mat = pd.DataFrame(conf_mat, index = ['Known 0', 'Known 1'], columns = ['Predicted 0', 'Predicted 1'])\n",
    "    \n",
    "    print('  Confusion matrix:')\n",
    "    print(conf_mat)"
   ]
  },
  {
   "cell_type": "code",
   "execution_count": 22,
   "id": "05aad9ff",
   "metadata": {},
   "outputs": [
    {
     "name": "stdout",
     "output_type": "stream",
     "text": [
      "  Model accuracy: 0.7272727272727273\n",
      "  Confusion matrix:\n",
      "         Predicted 0  Predicted 1\n",
      "Known 0           15            8\n",
      "Known 1            4           17\n"
     ]
    }
   ],
   "source": [
    "show_details(model, X_test_std.loc[:, X_selected_features.columns.values], y_test)"
   ]
  },
  {
   "cell_type": "code",
   "execution_count": 23,
   "id": "38ac7657",
   "metadata": {},
   "outputs": [
    {
     "name": "stdout",
     "output_type": "stream",
     "text": [
      "              precision    recall  f1-score   support\n",
      "\n",
      "           0       0.79      0.65      0.71        23\n",
      "           1       0.68      0.81      0.74        21\n",
      "\n",
      "    accuracy                           0.73        44\n",
      "   macro avg       0.73      0.73      0.73        44\n",
      "weighted avg       0.74      0.73      0.73        44\n",
      "\n"
     ]
    }
   ],
   "source": [
    "print(classification_report(y_test, y_predict_class_feature_selected))"
   ]
  },
  {
   "cell_type": "code",
   "execution_count": 24,
   "id": "9b5b9aa4",
   "metadata": {},
   "outputs": [],
   "source": [
    "# lebel selected features\n",
    "data = ['Age', 'WL-HHL_glszm_SmallAreaLowGrayLevelEmphasis', 'WL-LLH_glrlm_ShortRunLowGrayLevelEmphasis',\n",
    "        'wavelet-LLL_firstorder_Minimum', 'original_firstorder_Minimum', 'log-sigma-1-0-mm-3D_glcm_Idmn',\n",
    "        'log-sigma-5-0-mm-3D_glszm_SmallAreaEmphasis', 'WL-HHL_glszm_SmallAreaEmphasis', 'WL-LLH_glrlm_LowGrayLevelRunEmphasis',\n",
    "        'WL-LHH_glszm_SizeZoneNonUniformityNormalized', 'WL-LLH_ngtdm_Contrast', 'WL-LHH_glszm_SmallAreaEmphasis',\n",
    "        'WL-HHL_glszm_SizeZoneNonUniformityNormalized', 'WL-LHH_glszm_SmallAreaHighGrayLevelEmphasis',\n",
    "        'log-sigma-5-0-mm-3D_glszm_SizeZoneNonUniformityNormalized', 'WL-LLH_glszm_SizeZoneNonUniformityNormalized',\n",
    "        'WL-LLL_ngtdm_Complexity', 'original_ngtdm_Complexity', 'log-sigma-5-0-mm-3D_ngtdm_Complexity',\n",
    "        'WL-HLL_glszm_LowGrayLevelZoneEmphasis', 'WL-LLH_glcm_Idmn', 'log-sigma-1-0-mm-3D_ngtdm_Coarseness',\n",
    "        'WL-LLL_glszm_SizeZoneNonUniformityNormalized', 'log-sigma-4-0-mm-3D_glszm_GrayLevelVariance', 'TSH before RT',\n",
    "        'log-sigma-2-0-mm-3D_ngtdm_Coarseness', 'TR_V40', 'log-sigma-1-0-mm-3D_glszm_LowGrayLevelZoneEmphasis',\n",
    "        'log-sigma-1-0-mm-3D_ngtdm_Contrast', 'Bilateral neck metastasis']"
   ]
  },
  {
   "cell_type": "code",
   "execution_count": 25,
   "id": "b8c908ac",
   "metadata": {},
   "outputs": [
    {
     "data": {
      "image/png": "[encoded data removed]",
      "text/plain": [
       "<Figure size 1080x864 with 1 Axes>"
      ]
     },
     "metadata": {
      "needs_background": "light"
     },
     "output_type": "display_data"
    }
   ],
   "source": [
    "coeff = model.coef_[0]\n",
    "indices = np.argsort(coeff)\n",
    "\n",
    "plt.figure(figsize = (15, 12))\n",
    "plt.title('LR Combined model: model coefficient')\n",
    "plt.barh(range(len(indices)), coeff[indices], color=['r', 'orange', 'orange', 'orange', 'orange', 'orange','orange', \n",
    "                                                     'orange', 'orange', 'orange', 'orange', 'orange', 'orange', \n",
    "                                                     'orange', 'orange', 'orange', 'orange', 'orange', 'orange', \n",
    "                                                     'orange', 'orange', 'orange', 'orange', 'orange', 'r','orange',\n",
    "                                                     'r', 'orange', 'orange', 'r' ], align='center')\n",
    "plt.yticks(range(len(indices)), labels = data)\n",
    "plt.xlabel('coefficient')\n",
    "plt.show()"
   ]
  },
  {
   "cell_type": "code",
   "execution_count": null,
   "id": "150c4edd",
   "metadata": {},
   "outputs": [],
   "source": []
  }
 ],
 "metadata": {
  "kernelspec": {
   "display_name": "Python 3 (ipykernel)",
   "language": "python",
   "name": "python3"
  },
  "language_info": {
   "codemirror_mode": {
    "name": "ipython",
    "version": 3
   },
   "file_extension": ".py",
   "mimetype": "text/x-python",
   "name": "python",
   "nbconvert_exporter": "python",
   "pygments_lexer": "ipython3",
   "version": "3.7.9"
  }
 },
 "nbformat": 4,
 "nbformat_minor": 5
}
